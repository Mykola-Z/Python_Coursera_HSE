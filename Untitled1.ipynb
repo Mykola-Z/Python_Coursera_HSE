{
 "cells": [
  {
   "cell_type": "code",
   "execution_count": 3,
   "metadata": {},
   "outputs": [
    {
     "name": "stdin",
     "output_type": "stream",
     "text": [
      " 0\n",
      " 2\n",
      " 8\n",
      " 10\n",
      " 14\n",
      " 17\n"
     ]
    },
    {
     "name": "stdout",
     "output_type": "stream",
     "text": [
      "1\n",
      "1\n"
     ]
    }
   ],
   "source": [
    "# -*- coding: utf-8 -*-\n",
    "\"\"\"\n",
    "Created on Mon Feb 10 18:04:37 2020\n",
    "\n",
    "@author: mzly903\n",
    "\"\"\"\n",
    "\n",
    "matches = []\n",
    "\n",
    "all_points = []\n",
    "for i in range(3):\n",
    "    l = int(input())\n",
    "    r = int(input())\n",
    "    \n",
    "    matches.append(l)\n",
    "    matches.append(r)\n",
    "    \n",
    "    for j in range(l, r):\n",
    "        \n",
    "        all_points.append(j)\n",
    "\n",
    "\n",
    "all_points = list(set(all_points))\n",
    "\n",
    "min_value = min(all_points)\n",
    "max_value = max(all_points)\n",
    "\n",
    "\n",
    "gap = []\n",
    "check = 0\n",
    "for t in range(min_value, max_value + 1):\n",
    "    if t not in all_points:\n",
    "        \n",
    "        check = 1\n",
    "        gap.append(t)\n",
    "        gap.append(t+1)\n",
    "\n",
    "gap = list(set(gap))\n",
    "\n",
    "if len(gap) >= 1:\n",
    "    gap_total = max(gap) - min(gap)\n",
    "\n",
    "    n_gaps = 1\n",
    "    if gap_total > len(gap):\n",
    "        n_gaps = 2\n",
    "        \n",
    "\n",
    "    print (n_gaps)\n",
    "    dist = []\n",
    "    for r in range(1, len(gap)):\n",
    "        if gap[r] != (gap[r-1] + 1):\n",
    "            gap_dist =  gap[r] - gap[r-1]\n",
    "            dist.append(gap_dist)\n",
    "\n",
    "        \n",
    "print(check)\n",
    "       "
   ]
  },
  {
   "cell_type": "code",
   "execution_count": null,
   "metadata": {},
   "outputs": [],
   "source": []
  }
 ],
 "metadata": {
  "kernelspec": {
   "display_name": "Python 3",
   "language": "python",
   "name": "python3"
  },
  "language_info": {
   "codemirror_mode": {
    "name": "ipython",
    "version": 3
   },
   "file_extension": ".py",
   "mimetype": "text/x-python",
   "name": "python",
   "nbconvert_exporter": "python",
   "pygments_lexer": "ipython3",
   "version": "3.7.3"
  }
 },
 "nbformat": 4,
 "nbformat_minor": 4
}
